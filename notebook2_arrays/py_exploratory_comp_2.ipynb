{
  "cells": [
    {
      "cell_type": "markdown",
      "metadata": {
        "id": "C5mWbtx8Md8X"
      },
      "source": [
        "\n",
        "# Exploratory Computing with Python"
      ]
    },
    {
      "cell_type": "markdown",
      "metadata": {
        "id": "tJ8xfWMbMd8a"
      },
      "source": [
        "## Notebook 2: Arrays\n",
        "\n",
        "In this notebook, we will do math on arrays using functions of the `numpy` package. A nice overview of `numpy` functionality can be found [here](https://docs.scipy.org/doc/numpy/user/quickstart.html). We will also make plots. We start by telling the Jupyter Notebooks to put all graphs inline. Then we import the `numpy` package and call it `np`, and we import the plotting part of the `matplotlib` package and call it `plt`.  We will add these three lines at the top of all upcoming notebooks as we will always be using `numpy` and `matplotlib`. "
      ]
    },
    {
      "cell_type": "code",
      "execution_count": 1,
      "metadata": {
        "id": "r3P9GCtFMd8a"
      },
      "outputs": [],
      "source": [
        "%matplotlib inline\n",
        "import numpy as np\n",
        "import matplotlib.pyplot as plt"
      ]
    },
    {
      "cell_type": "markdown",
      "metadata": {
        "id": "68A6cCMPMd8c"
      },
      "source": [
        "### One-dimesional arrays\n",
        "There are many ways to create arrays. For example, you can enter the individual elements of an array"
      ]
    },
    {
      "cell_type": "code",
      "execution_count": 3,
      "metadata": {
        "colab": {
          "base_uri": "https://localhost:8080/"
        },
        "id": "MUqxKZ42Md8c",
        "outputId": "0adae06e-c5af-488f-e478-130d27ca7301"
      },
      "outputs": [
        {
          "output_type": "execute_result",
          "data": {
            "text/plain": [
              "array([ 1,  7,  2, 12])"
            ]
          },
          "metadata": {},
          "execution_count": 3
        }
      ],
      "source": [
        "arr = np.array([1, 7, 2, 12])\n",
        "arr"
      ]
    },
    {
      "cell_type": "code",
      "source": [
        "type(arr)"
      ],
      "metadata": {
        "colab": {
          "base_uri": "https://localhost:8080/"
        },
        "id": "mOViKxZQW09g",
        "outputId": "345ebcc1-ff83-4dc7-a9c9-98d7941e5819"
      },
      "execution_count": 4,
      "outputs": [
        {
          "output_type": "execute_result",
          "data": {
            "text/plain": [
              "numpy.ndarray"
            ]
          },
          "metadata": {},
          "execution_count": 4
        }
      ]
    },
    {
      "cell_type": "markdown",
      "metadata": {
        "id": "R0jzht70Md8d"
      },
      "source": [
        "Note that the `array` function takes one sequence of points between square brackets. \n",
        "Another function to create an array is `np.ones(shape)`, which creates an array of the specified `shape` filled with the value 1. \n",
        "There is an analogous function `np.zeros(shape)` to create an array filled with the value 0 (which can also be achieved with `0 * np.ones(shape)`). Next to the already mentioned `np.linspace` function there is the `np.arange(start, end, step)` \n",
        "function, which creates an array starting at `start`, taking steps equal to `step` and stopping *before* it reaches `end`. If you don't specify the `step`, \n",
        "it is set equal to 1. If you only specify one input value, it returns a sequence starting at 0 and incrementing by 1 until the specified value is reached (but again, it stops before it reaches that value)"
      ]
    },
    {
      "cell_type": "code",
      "source": [
        "np.zeros((2, 5))"
      ],
      "metadata": {
        "colab": {
          "base_uri": "https://localhost:8080/"
        },
        "id": "crU-pz1yXDoa",
        "outputId": "23f65fb7-4c18-42cd-cdf7-b17854e0e259"
      },
      "execution_count": 7,
      "outputs": [
        {
          "output_type": "execute_result",
          "data": {
            "text/plain": [
              "array([[0., 0., 0., 0., 0.],\n",
              "       [0., 0., 0., 0., 0.]])"
            ]
          },
          "metadata": {},
          "execution_count": 7
        }
      ]
    },
    {
      "cell_type": "code",
      "source": [
        "np.linspace(0, 100, 50)"
      ],
      "metadata": {
        "colab": {
          "base_uri": "https://localhost:8080/"
        },
        "id": "jRasigbqXeLS",
        "outputId": "6ac99174-ca5e-4897-9883-f06e74f9bcb0"
      },
      "execution_count": 15,
      "outputs": [
        {
          "output_type": "execute_result",
          "data": {
            "text/plain": [
              "array([  0.        ,   2.04081633,   4.08163265,   6.12244898,\n",
              "         8.16326531,  10.20408163,  12.24489796,  14.28571429,\n",
              "        16.32653061,  18.36734694,  20.40816327,  22.44897959,\n",
              "        24.48979592,  26.53061224,  28.57142857,  30.6122449 ,\n",
              "        32.65306122,  34.69387755,  36.73469388,  38.7755102 ,\n",
              "        40.81632653,  42.85714286,  44.89795918,  46.93877551,\n",
              "        48.97959184,  51.02040816,  53.06122449,  55.10204082,\n",
              "        57.14285714,  59.18367347,  61.2244898 ,  63.26530612,\n",
              "        65.30612245,  67.34693878,  69.3877551 ,  71.42857143,\n",
              "        73.46938776,  75.51020408,  77.55102041,  79.59183673,\n",
              "        81.63265306,  83.67346939,  85.71428571,  87.75510204,\n",
              "        89.79591837,  91.83673469,  93.87755102,  95.91836735,\n",
              "        97.95918367, 100.        ])"
            ]
          },
          "metadata": {},
          "execution_count": 15
        }
      ]
    },
    {
      "cell_type": "code",
      "execution_count": 19,
      "metadata": {
        "colab": {
          "base_uri": "https://localhost:8080/"
        },
        "id": "fOyPVZQjMd8d",
        "outputId": "d9c39a7e-9cd8-495e-b744-1f1ac1443aac"
      },
      "outputs": [
        {
          "output_type": "stream",
          "name": "stdout",
          "text": [
            "[  0   2   4   6   8  10  12  14  16  18  20  22  24  26  28  30  32  34\n",
            "  36  38  40  42  44  46  48  50  52  54  56  58  60  62  64  66  68  70\n",
            "  72  74  76  78  80  82  84  86  88  90  92  94  96  98 100]\n",
            "[0 1 2 3 4]\n"
          ]
        },
        {
          "output_type": "execute_result",
          "data": {
            "text/plain": [
              "array([0, 1, 2, 3, 4])"
            ]
          },
          "metadata": {},
          "execution_count": 19
        }
      ],
      "source": [
        "print(np.arange(0, 101, 2)) # Takes default steps of 1 and doesn't include 7\n",
        "print(np.arange(5)) # Starts at 0 end ends at 4, giving 5 numbers\n",
        "\n",
        "arr = np.arange(5)\n",
        "arr"
      ]
    },
    {
      "cell_type": "markdown",
      "metadata": {
        "id": "Iv0DYEeTMd8e"
      },
      "source": [
        "Recall that comments in Python are preceded by a `#`. \n",
        "Arrays have a dimension. So far we have only used one-dimensional arrays. \n",
        "Hence the dimension is 1. \n",
        "For one-dimensional arrays, you can also compute the length (which is part of Python and not `numpy`), which returns the number of values in the array"
      ]
    },
    {
      "cell_type": "code",
      "source": [
        "fruits = [\"bananas\", \"apples\"]\n",
        "len(fruits)"
      ],
      "metadata": {
        "colab": {
          "base_uri": "https://localhost:8080/"
        },
        "id": "8xkzAC_tYr2S",
        "outputId": "36057d46-6d46-43a8-9867-041b633b2364"
      },
      "execution_count": 22,
      "outputs": [
        {
          "output_type": "execute_result",
          "data": {
            "text/plain": [
              "2"
            ]
          },
          "metadata": {},
          "execution_count": 22
        }
      ]
    },
    {
      "cell_type": "code",
      "execution_count": 28,
      "metadata": {
        "colab": {
          "base_uri": "https://localhost:8080/"
        },
        "id": "f1W0JNNHMd8f",
        "outputId": "34f6dbc2-a62f-413c-a51b-a7c064133784"
      },
      "outputs": [
        {
          "output_type": "stream",
          "name": "stdout",
          "text": [
            "[[ 1  7  2 12]\n",
            " [ 2  9 15 20]\n",
            " [ 3  7  8  9]]\n",
            "number of dimensions of x: 2\n",
            "length of x: 3\n",
            "shape of x:  (3, 4)\n"
          ]
        }
      ],
      "source": [
        "x = np.array(\n",
        "    [\n",
        "    [1, 7, 2, 12],\n",
        "    [2, 9, 15, 20],\n",
        "    [3, 7, 8, 9]\n",
        "     ])\n",
        "\n",
        "print(x)\n",
        "print('number of dimensions of x:', np.ndim(x))\n",
        "print('length of x:', len(x))\n",
        "print('shape of x: ', x.shape)"
      ]
    },
    {
      "cell_type": "code",
      "source": [
        "x = np.zeros((2, 2, 2))\n",
        "x\n",
        "print(x)\n",
        "print(np.ndim(x))\n",
        "print(len(x))\n",
        "print(x.shape)"
      ],
      "metadata": {
        "id": "kFCDauFOZ00M",
        "outputId": "2c77b35d-0d97-410e-aa45-865cd7fc4ceb",
        "colab": {
          "base_uri": "https://localhost:8080/"
        }
      },
      "execution_count": 34,
      "outputs": [
        {
          "output_type": "stream",
          "name": "stdout",
          "text": [
            "[[[0. 0.]\n",
            "  [0. 0.]]\n",
            "\n",
            " [[0. 0.]\n",
            "  [0. 0.]]]\n",
            "3\n",
            "2\n",
            "(2, 2, 2)\n"
          ]
        }
      ]
    },
    {
      "cell_type": "code",
      "source": [
        "for i in range(len(x)):\n",
        "  for j in range(len(x[i])):\n",
        "    for k in range(len(x[j])):\n",
        "        print(i, j, k)"
      ],
      "metadata": {
        "id": "Dyc_HE63bUMC",
        "outputId": "bd65f335-ecd3-474d-bc5d-3bd7d1de1005",
        "colab": {
          "base_uri": "https://localhost:8080/"
        }
      },
      "execution_count": 38,
      "outputs": [
        {
          "output_type": "stream",
          "name": "stdout",
          "text": [
            "0 0 0\n",
            "0 0 1\n",
            "0 1 0\n",
            "0 1 1\n",
            "1 0 0\n",
            "1 0 1\n",
            "1 1 0\n",
            "1 1 1\n"
          ]
        }
      ]
    },
    {
      "cell_type": "markdown",
      "metadata": {
        "id": "Qi_3LhheMd8g"
      },
      "source": [
        "The individual elements of an array can be accessed with their index. Indices start at 0. \n",
        "This may require a bit of getting used to. It means that the first value in the array has index 0. The index of an array is specified using square brackets."
      ]
    },
    {
      "cell_type": "code",
      "execution_count": 40,
      "metadata": {
        "colab": {
          "base_uri": "https://localhost:8080/"
        },
        "id": "LnusetF4Md8g",
        "outputId": "3697f407-6efc-4e05-8a62-558633cb7680"
      },
      "outputs": [
        {
          "output_type": "stream",
          "name": "stdout",
          "text": [
            "array x: [20 21 22 23 24 25 26 27 28 29]\n",
            "value with index 0: 20\n",
            "value with index 5: 25\n"
          ]
        }
      ],
      "source": [
        "x = np.arange(20, 30)\n",
        "print('array x:', x)\n",
        "print('value with index 0:', x[0])\n",
        "print('value with index 5:', x[5])"
      ]
    },
    {
      "cell_type": "markdown",
      "metadata": {
        "id": "AAP1nJC6Md8h"
      },
      "source": [
        "A range of indices may be specified using the colon syntax:\n",
        "`x[start:end_before]` or `x[start:end_before:step]`. If the `start` isn't specified, 0 will be used. If the step isn't specified, 1 will be used. "
      ]
    },
    {
      "cell_type": "code",
      "execution_count": 58,
      "metadata": {
        "colab": {
          "base_uri": "https://localhost:8080/"
        },
        "id": "3EnsIM3DMd8h",
        "outputId": "233dca93-3a61-4d2f-efd9-1798cd61c954"
      },
      "outputs": [
        {
          "output_type": "stream",
          "name": "stdout",
          "text": [
            "[  0   1   2   3   4   5   6   7   8   9  10  11  12  13  14  15  16  17\n",
            "  18  19  20  21  22  23  24  25  26  27  28  29  30  31  32  33  34  35\n",
            "  36  37  38  39  40  41  42  43  44  45  46  47  48  49  50  51  52  53\n",
            "  54  55  56  57  58  59  60  61  62  63  64  65  66  67  68  69  70  71\n",
            "  72  73  74  75  76  77  78  79  80  81  82  83  84  85  86  87  88  89\n",
            "  90  91  92  93  94  95  96  97  98  99 100]\n"
          ]
        }
      ],
      "source": [
        "x = np.arange(0, 101)\n",
        "print(x)\n",
        "\n",
        "\n",
        "# print(x[start:end:step])\n"
      ]
    },
    {
      "cell_type": "markdown",
      "metadata": {
        "id": "oCr81WRTMd8h"
      },
      "source": [
        "You can also start at the end and count back. Generally, the index of the end is not known. You can find out how long the array is and access the last value by typing `x[len(x) - 1]` but it would be inconvenient to have to type `len(arrayname)` all the time. Luckily, there is a shortcut: `x[-1]` is the same as `x[len(x) - 1]` and represents the last value in the array. For example:"
      ]
    },
    {
      "cell_type": "code",
      "execution_count": 65,
      "metadata": {
        "colab": {
          "base_uri": "https://localhost:8080/"
        },
        "id": "pI1idp7uMd8h",
        "outputId": "79ffb82b-6933-402d-d7af-c3a4ec0c2767"
      },
      "outputs": [
        {
          "output_type": "stream",
          "name": "stdout",
          "text": [
            "[ 0 10 20 30 40 50 60 70 80 90]\n",
            "10\n",
            "90\n",
            "90\n",
            "[90 80 70 60 50 40 30 20 10  0]\n",
            "[90 80 70 60 50 40 30 20 10  0]\n"
          ]
        }
      ],
      "source": [
        "xvalues = np.arange(0, 100, 10)\n",
        "print(xvalues)\n",
        "print(len(xvalues))\n",
        "print(xvalues[len(xvalues)-1])  # last value in array\n",
        "print(xvalues[-1])  # much shorter\n",
        "print(xvalues[-1::-1])  # start at the end and go back with steps of -1\n",
        "print(xvalues[::-1])"
      ]
    },
    {
      "cell_type": "markdown",
      "metadata": {
        "id": "tnbGH6ZpMd8h"
      },
      "source": [
        "You can assign one value to a range of an array by specifying a range of indices, \n",
        "or you can assign an array to a range of another array, as long as the ranges have the same length. In the last example below, the first 5 values of `x` (specified as `x[0:5]`) are given the values `[40, 42, 44, 46, 48]`."
      ]
    },
    {
      "cell_type": "code",
      "source": [
        "zeroes = np.zeros(10)\n",
        "zeroes\n",
        "ones = np.ones(10)\n",
        "twos = 2 * ones\n",
        "twos"
      ],
      "metadata": {
        "id": "sUxxOTcae8N0",
        "outputId": "f4fd9291-8ef4-444d-9881-3eb57f7697c4",
        "colab": {
          "base_uri": "https://localhost:8080/"
        }
      },
      "execution_count": 73,
      "outputs": [
        {
          "output_type": "execute_result",
          "data": {
            "text/plain": [
              "array([2., 2., 2., 2., 2., 2., 2., 2., 2., 2.])"
            ]
          },
          "metadata": {},
          "execution_count": 73
        }
      ]
    },
    {
      "cell_type": "code",
      "execution_count": 74,
      "metadata": {
        "colab": {
          "base_uri": "https://localhost:8080/"
        },
        "id": "VEI75MhCMd8i",
        "outputId": "0a40bb16-247e-428b-d9f2-855d170f8721"
      },
      "outputs": [
        {
          "output_type": "stream",
          "name": "stdout",
          "text": [
            "[20. 20. 20. 20. 20. 20. 20. 20. 20. 20.]\n",
            "[40. 40. 40. 40. 40. 20. 20. 20. 20. 20.]\n",
            "[40. 42. 44. 46. 48. 20. 20. 20. 20. 20.]\n"
          ]
        }
      ],
      "source": [
        "x = 20 * np.ones(10)\n",
        "print(x)\n",
        "x[0:5] = 40\n",
        "print(x)\n",
        "x[0:5] = np.arange(40, 50, 2)\n",
        "print(x)"
      ]
    },
    {
      "cell_type": "markdown",
      "metadata": {
        "id": "v3WclgTDMd8i"
      },
      "source": [
        "### Exercise 1, <a name=\"back1\"></a> Arrays and indices\n",
        "Create an array of zeros with length 20. Change the first 5 values to 10. Change the next 10 values to a sequence starting at 12 and increasig with steps of 2 to 30 (do this with one command). Set the final 5 values to 30. Plot the value of the array on the $y$-axis vs. the index of the array on the $x$-axis. Draw vertical dashed lines at $x=4$ and $x=14$ (i.e., the section between the dashed lines is where the line increases from 10 to 30). Set the minimum and maximum values of the $y$-axis to 8 and 32 using the `ylim` command."
      ]
    },
    {
      "cell_type": "code",
      "execution_count": null,
      "metadata": {
        "id": "sW0rSP5SMd8i"
      },
      "outputs": [],
      "source": [
        ""
      ]
    },
    {
      "cell_type": "markdown",
      "metadata": {
        "id": "uCISyaGsMd8i"
      },
      "source": [
        "<a href=\"#ex1answer\">Answer for Exercise 1</a>"
      ]
    },
    {
      "cell_type": "markdown",
      "metadata": {
        "id": "0iV7ENuvMd8i"
      },
      "source": [
        "### Arrays, Lists, and Tuples\n",
        "A one-dimensional array is a sequence of values that you can do math on. Next to an array, Python has several other data types that can store a sequence of values. The first one is called a `list` and is entered between square brackets. The second one is a tuple (you are right, strange name), and it is entered with parentheses. The difference is that you can change the values in a list after you create them, and you can not do that with a tuple. Other than that, for now you just need to remember that they exist, and that you *cannot* do math with either lists or tuples. When you do `2 * alist`, where `alist` is a list, you don't multiply all values in `alist` with the number 2. What happens is that you create a new list that contains `alist` twice (so it adds them back to back). The same holds for tuples. That can be very useful, but not when your intent is to multiply all values by 2. In the example below, the first value in a list is modified. Try to modify one of the values in `btuple` below and you will see that you get an error message:"
      ]
    },
    {
      "cell_type": "code",
      "execution_count": null,
      "metadata": {
        "id": "eqnu8-MXMd8i"
      },
      "outputs": [],
      "source": [
        "alist = [1, 2, 3]\n",
        "print('alist', alist)\n",
        "btuple = (10, 20, 30)\n",
        "print('btuple', btuple)\n",
        "alist[0] = 7  # Since alist is a list, you can change values \n",
        "print('modified alist', alist)\n",
        "#btuple[0] = 100  # Will give an error\n",
        "#print(2 * alist)"
      ]
    },
    {
      "cell_type": "markdown",
      "metadata": {
        "id": "Zlonina5Md8j"
      },
      "source": [
        "Lists and tuples are versatile data types in Python. We already used lists without realizing it when we created our first array with the command `np.array([1, 7, 2, 12])`. What we did is we gave the `array` function one input argument: the list `[1, 7, 2, 12]`, and the `array` function returned a one-dimensional array with those values. Lists and tuples can consist of a sequences of pretty much anything, not just numbers. In the example given below, `alist` contains 5 *things*: the integer 1, the float 20.0, the word `python`, an array with the values 1,2,3, and finally, the function `len`. The latter means that `alist[4]` is actually the function `len`. That function can be called to determine the length of an array as shown below. The latter may be a bit confusing, but it is cool behavior if you take the time to think about it."
      ]
    },
    {
      "cell_type": "code",
      "execution_count": null,
      "metadata": {
        "id": "AyQIjhxFMd8j"
      },
      "outputs": [],
      "source": [
        "alist = [1, 20.0, 'python', np.array([1,2,3]), len]\n",
        "print(alist)\n",
        "print(alist[0])\n",
        "print(alist[2])\n",
        "print(alist[4](alist[3]))  # same as len(np.array([1,2,3]))"
      ]
    },
    {
      "cell_type": "markdown",
      "metadata": {
        "id": "vvZ8lcG5Md8j"
      },
      "source": [
        "### Two-dimensional arrays\n",
        "Arrays may have arbitrary dimensions (as long as they fit in your computer's memory). We will make frequent use of two-dimensional arrays. They can be created with any of the aforementioned functions by specifying the number of rows and columns of the array. Note that the number of rows and columns must be a tuple (so they need to be between parentheses), as the functions expect only one input argument for the shape of the array, which may be either one number or a tuple of multiple numbers."
      ]
    },
    {
      "cell_type": "code",
      "execution_count": null,
      "metadata": {
        "id": "XruVK0CNMd8j"
      },
      "outputs": [],
      "source": [
        "x = np.ones((3, 4)) # An array with 3 rows and 4 columns\n",
        "print(x)"
      ]
    },
    {
      "cell_type": "markdown",
      "metadata": {
        "id": "CluQl9hSMd8j"
      },
      "source": [
        "Arrays may also be defined by specifying all the values in the array. The `array` function gets passed one list consisting of separate lists for each row of the array. In the example below, the rows are entered on different lines. That may make it easier to enter the array, but it is not required. You can change the size of an array to any shape using the `reshape` function as long as the total number of entries doesn't change. "
      ]
    },
    {
      "cell_type": "code",
      "execution_count": null,
      "metadata": {
        "id": "Gc_6MX97Md8j"
      },
      "outputs": [],
      "source": [
        "x = np.array([[4, 2, 3, 2],\n",
        "              [2, 4, 3, 1],\n",
        "              [0, 4, 1, 3]])\n",
        "print(x)\n",
        "print(np.reshape(x, (2, 6)))  # 2 rows, 6 columns\n",
        "print(np.reshape(x, (1, 12)))  # 1 row, 12 columns"
      ]
    },
    {
      "cell_type": "markdown",
      "metadata": {
        "id": "MbEk0lphMd8j"
      },
      "source": [
        "The index of a two-dimensional array is specified with two values, first the row index, then the column index."
      ]
    },
    {
      "cell_type": "code",
      "execution_count": null,
      "metadata": {
        "id": "AyHQS6BAMd8k"
      },
      "outputs": [],
      "source": [
        "x = np.zeros((3, 8))\n",
        "x[0, 0] = 100\n",
        "x[1, 4:] = 200  # Row with index 1, columns starting with 4 to the end\n",
        "x[2, -1:4:-1] = 400  # Row with index 2, columns counting back from the end with steps of 1 and stop before reaching index 4\n",
        "print(x)"
      ]
    },
    {
      "cell_type": "markdown",
      "metadata": {
        "id": "d8DCPec3Md8k"
      },
      "source": [
        "### Arrays are not matrices\n",
        "Now that we talk about the rows and columns of an array, the math-oriented reader may think that arrays are matrices, or that one-dimensional arrays are vectors. It is crucial to understand that *arrays are not vectors or matrices*. The multiplication and division of two arrays is term by term"
      ]
    },
    {
      "cell_type": "code",
      "execution_count": null,
      "metadata": {
        "id": "dF_5LOimMd8k"
      },
      "outputs": [],
      "source": [
        "a = np.arange(4, 20, 4)\n",
        "b = np.array([2, 2, 4, 4])\n",
        "print('array a:', a)\n",
        "print('array b:', b)\n",
        "print('a * b  :', a * b)  # term by term multiplication\n",
        "print('a / b  :', a / b)  # term by term division"
      ]
    },
    {
      "cell_type": "markdown",
      "metadata": {
        "id": "uMcirFcqMd8k"
      },
      "source": [
        "### Exercise 2, <a name=\"back2\"></a> Two-dimensional array indices\n",
        "For the array `x` shown below, write code to print: \n",
        "\n",
        "* the first row of `x`\n",
        "* the first column of `x`\n",
        "* the third row of `x`\n",
        "* the last two columns of `x`\n",
        "* the 2 by 2 block of values in the upper right-hand corner of `x`\n",
        "* the 2 by 2 block of values at the center of `x`\n",
        "\n",
        "`x = np.array([[4, 2, 3, 2],\n",
        "               [2, 4, 3, 1],\n",
        "               [2, 4, 1, 3],\n",
        "               [4, 1, 2, 3]])`"
      ]
    },
    {
      "cell_type": "code",
      "execution_count": null,
      "metadata": {
        "id": "KPeKTe8SMd8k"
      },
      "outputs": [],
      "source": [
        ""
      ]
    },
    {
      "cell_type": "markdown",
      "metadata": {
        "id": "_DWm1fiMMd8k"
      },
      "source": [
        "<a href=\"#ex2answer\">Answer for Exercise 2</a>"
      ]
    },
    {
      "cell_type": "markdown",
      "metadata": {
        "id": "nHKEpbdtMd8k"
      },
      "source": [
        "### Visualizing two-dimensional arrays\n",
        "Two-dimensonal arrays can be visualized with the `plt.matshow` function. In the example below, the array is very small (only 4 by 4), but it illustrates the general principle. A colorbar is added as a legend. The ticks in the colorbar are specified to be 2, 4, 6, and 8. Note that the first row of the array (with index 0), is plotted at the top, which corresponds to the location of the first row in the array."
      ]
    },
    {
      "cell_type": "code",
      "execution_count": null,
      "metadata": {
        "id": "n_E2A-LsMd8k"
      },
      "outputs": [],
      "source": [
        "x = np.array([[8, 4, 6, 2],\n",
        "              [4, 8, 6, 2],\n",
        "              [4, 8, 2, 6],\n",
        "              [8, 2, 4, 6]])\n",
        "plt.matshow(x)\n",
        "plt.colorbar(ticks=[2, 4, 6, 8], shrink=0.8)\n",
        "print(x)"
      ]
    },
    {
      "cell_type": "markdown",
      "metadata": {
        "id": "Tq7vbKllMd8l"
      },
      "source": [
        "The colors that are used are defined in the default color map (it is called `viridis`), which maps the highest value to yellow, the lowest value to purple and the numbers in between varying between blue and green. An explanation of the advantages of `viridis` can be seen [here](https://youtu.be/xAoljeRJ3lU). If you want other colors, you can choose one of the other color maps with the `cmap` keyword argument. To find out all the available color maps, go \n",
        "[here](http://matplotlib.org/users/colormaps.html). For example, setting the color map to `rainbow` gives"
      ]
    },
    {
      "cell_type": "code",
      "execution_count": null,
      "metadata": {
        "id": "PcjCgP3RMd8l"
      },
      "outputs": [],
      "source": [
        "plt.matshow(x, cmap='rainbow')\n",
        "plt.colorbar(ticks=np.arange(2, 9, 2), shrink=0.8);"
      ]
    },
    {
      "cell_type": "markdown",
      "metadata": {
        "id": "FiYxom8zMd8l"
      },
      "source": [
        "### Exercise 3, <a name=\"back3\"></a> Create and visualize an array\n",
        "Create an array of size 10 by 10. Set the upper left-hand quadrant of the array should to 4, the upper right-hand quadrant to 3, the lower right-hand quadrant t0 2 and the lower left-hand quadrant to 1. First create an array of 10 by 10 using the `zeros` command, then fill each quadrant by specifying the correct index ranges. Visualize the array using `matshow`. It should give a red, yellow, light blue and dark blue box (clock-wise starting from upper left) when you use the `jet` colormap."
      ]
    },
    {
      "cell_type": "code",
      "execution_count": null,
      "metadata": {
        "id": "RF_c_xV8Md8l"
      },
      "outputs": [],
      "source": [
        ""
      ]
    },
    {
      "cell_type": "markdown",
      "metadata": {
        "id": "x3L2zZqrMd8l"
      },
      "source": [
        "<a href=\"#ex3answer\">Answer for Exercise 3</a>"
      ]
    },
    {
      "cell_type": "markdown",
      "metadata": {
        "id": "4R5y9edJMd8l"
      },
      "source": [
        "### Exercise 4, <a name=\"back4\"></a> Create and visualize a slightly fancier array\n",
        "Consider the image shown below, which roughly shows the letters TU. You are asked to create an array that represents the same TU. First create a zeros array of 11 rows and 17 columns. Give the background value 0, the letter T value -1, and the letter U value +1. Use the `jet` colormap. <a name=\"back4\"></a>\n",
        "\n",
        "![](https://github.com/nijfranck/ai-big-data-course/blob/main/notebook2_arrays/tufig.png?raw=1)"
      ]
    },
    {
      "cell_type": "code",
      "execution_count": null,
      "metadata": {
        "id": "jcUl8G41Md8l"
      },
      "outputs": [],
      "source": [
        ""
      ]
    },
    {
      "cell_type": "markdown",
      "metadata": {
        "id": "8wInDv7EMd8m"
      },
      "source": [
        "<a href=\"#ex4answer\">Answer to Exercise 4</a>"
      ]
    },
    {
      "cell_type": "markdown",
      "metadata": {
        "id": "M6l734PdMd8m"
      },
      "source": [
        "### Using conditions on arrays\n",
        "If you have a variable, you can check whether its value is smaller or larger than a certain other value. This is called a *conditional* statement.\n",
        "For example:"
      ]
    },
    {
      "cell_type": "code",
      "execution_count": null,
      "metadata": {
        "id": "b4zLhm4JMd8m"
      },
      "outputs": [],
      "source": [
        "a = 4\n",
        "print('a < 2:', a < 2)\n",
        "print('a > 2:', a > 2)"
      ]
    },
    {
      "cell_type": "markdown",
      "metadata": {
        "id": "nrnx1cokMd8m"
      },
      "source": [
        "The statement `a < 2` returns a variable of type boolean, which means it can either be `True` or `False`. Besides smaller than or larger than, there are several other conditions you can use:"
      ]
    },
    {
      "cell_type": "code",
      "execution_count": null,
      "metadata": {
        "id": "dmojnDfwMd8m"
      },
      "outputs": [],
      "source": [
        "a = 4\n",
        "print('the value of a is', a)\n",
        "print('a < 4: ', a < 4)\n",
        "print('a <= 4:', a <= 4) # a is smaller than or equal to 4\n",
        "print('a == 4:', a == 4) # a is equal to 4. Note that there are 2 equal signs\n",
        "print('a >= 4:', a >= 4) \n",
        "print('a > 4: ', a > 4)\n",
        "print('a != 4:', a != 4) # a is not equal to 4"
      ]
    },
    {
      "cell_type": "markdown",
      "metadata": {
        "id": "Prr0SIKQMd8m"
      },
      "source": [
        "It is important to understand the difference between one equal sign like `a = 4` and two equal signs like `a == 4`. One equal sign means assignment. Whatever is on the right side of the equal sign is assigned to what is on the left side of the equal sign. Two equal signs is a comparison and results in either `True` (when both sides are equal) or `False`."
      ]
    },
    {
      "cell_type": "code",
      "execution_count": null,
      "metadata": {
        "id": "cLFt6ridMd8m"
      },
      "outputs": [],
      "source": [
        "print(4 == 4)\n",
        "a = 4 == 5\n",
        "print(a)\n",
        "print(type(a))"
      ]
    },
    {
      "cell_type": "markdown",
      "metadata": {
        "id": "u6ys0wcSMd8m"
      },
      "source": [
        "You can also perform comparison statements on arrays, and it will return an array of booleans (`True` and `False` values) for each value in the array. For example let's create an array and find out what values of the array are below 3:"
      ]
    },
    {
      "cell_type": "code",
      "execution_count": null,
      "metadata": {
        "id": "yOCiuFfEMd8m"
      },
      "outputs": [],
      "source": [
        "data = np.arange(5)\n",
        "print(data)\n",
        "print(data < 3)"
      ]
    },
    {
      "cell_type": "markdown",
      "metadata": {
        "id": "zmQrALqJMd8m"
      },
      "source": [
        "The statement `data < 3` returns an array of type `boolean` that has the same length as the array `data` and for each item in the array it is either `True` or `False`. The cool thing is that this array of `True` and `False` values can be used to specify the indices of an array:"
      ]
    },
    {
      "cell_type": "code",
      "execution_count": null,
      "metadata": {
        "id": "0oAN22jjMd8m"
      },
      "outputs": [],
      "source": [
        "a = np.arange(5)\n",
        "print(a)\n",
        "print(a[[True, True, False, False, True]])"
      ]
    },
    {
      "cell_type": "markdown",
      "metadata": {
        "id": "iysqYXj2Md8m"
      },
      "source": [
        "When the indices of an array are specified with a boolean array, only the values of the array where the boolean array is `True` are selected. This is a very powerful feature. For example, all values of an array that are less than, for example, 3 may be obtained by specifying a condition as the indices."
      ]
    },
    {
      "cell_type": "code",
      "execution_count": null,
      "metadata": {
        "id": "zV-6dsLmMd8m"
      },
      "outputs": [],
      "source": [
        "a = np.arange(5)\n",
        "print('the total array:', a)\n",
        "print('values less than 3:', a[a < 3])"
      ]
    },
    {
      "cell_type": "markdown",
      "metadata": {
        "id": "sBwLBqlMMd8m"
      },
      "source": [
        "If we want to replace all values that are less than 3 by, for example, the value 10, use the following short syntax:"
      ]
    },
    {
      "cell_type": "code",
      "execution_count": null,
      "metadata": {
        "id": "fYDyJKTfMd8m"
      },
      "outputs": [],
      "source": [
        "a = np.arange(5)\n",
        "print(a)\n",
        "a[a < 3] = 10\n",
        "print(a)"
      ]
    },
    {
      "cell_type": "markdown",
      "metadata": {
        "id": "c0vZAtxkMd8m"
      },
      "source": [
        "### Exercise 5, <a name=\"back5\"></a> Replace high and low values in an array\n",
        "Create an array for variable $x$ consisting of 100 values from 0 to 20. Compute $y=\\sin(x)$ and plot $y$ vs. $x$ with a blue line. Next, replace all values of $y$ that are larger than 0.5 by 0.5, and all values that are smaller than $-$0.75 by $-$0.75, and plot the modified $y$ values vs. $x$ using a red line on the same graph. "
      ]
    },
    {
      "cell_type": "code",
      "execution_count": null,
      "metadata": {
        "id": "2xh1sqssMd8m"
      },
      "outputs": [],
      "source": [
        ""
      ]
    },
    {
      "cell_type": "markdown",
      "metadata": {
        "id": "lqUORwYOMd8m"
      },
      "source": [
        "<a href=\"#ex5answer\">Answer to Exercise 5</a>\n",
        "\n",
        "### Exercise 6, <a name=\"back6\"></a> Change marker color based on data value\n",
        "Create an array for variable $x$ consisting of 100 points from 0 to 20 and compute $y=\\sin(x)$. Plot a blue dot for every $y$ that is larger than zero, and a red dot otherwise"
      ]
    },
    {
      "cell_type": "code",
      "execution_count": null,
      "metadata": {
        "id": "ftJ0_8eFMd8n"
      },
      "outputs": [],
      "source": [
        ""
      ]
    },
    {
      "cell_type": "markdown",
      "metadata": {
        "id": "3luESRliMd8n"
      },
      "source": [
        "<a href=\"#ex6answer\">Answer to Exercise 6</a>"
      ]
    },
    {
      "cell_type": "markdown",
      "metadata": {
        "id": "IffFq7F_Md8n"
      },
      "source": [
        "### Select indices based on multiple conditions\n",
        "Multiple conditions can be given as well. When two conditions both have to be true, use the `&` symbol. When at least one of the conditions needs to be true, use the '|' symbol (that is the vertical bar). For example, let's plot $y=\\sin(x)$ and plot blue markers when $y>0.7$ or $y<-0.5$ (using one `plot` statement), and a red marker when $-0.5\\le y\\le 0.7$. Note that when there are multiple conditions, they need to be between parentheses."
      ]
    },
    {
      "cell_type": "code",
      "execution_count": null,
      "metadata": {
        "id": "g5B6jIMXMd8n"
      },
      "outputs": [],
      "source": [
        "x = np.linspace(0, 6 * np.pi, 50)\n",
        "y = np.sin(x)\n",
        "plt.plot(x[(y > 0.7) | (y < -0.5)], y[(y > 0.7) | (y < -0.5)], 'bo')\n",
        "plt.plot(x[(y > -0.5) & (y < 0.7)], y[(y > -0.5) & (y < 0.7)], 'ro');"
      ]
    },
    {
      "cell_type": "markdown",
      "metadata": {
        "id": "vUaVOwe1Md8n"
      },
      "source": [
        "### Exercise 7, <a name=\"back7\"></a> Multiple conditions \n",
        "The file `xypoints.dat` contains 1000 randomly chosen $x,y$ locations of points; both $x$ and $y$ vary between -10 and 10. Load the data using `loadtxt`, and store the first row of the array in an array called `x` and the second row in an array called `y`. First, plot a red dot for all points. On the same graph, plot a blue dot for all $x,y$ points where $x<-2$ and $-5\\le y \\le 0$. Finally, plot a green dot for any point that lies in the circle with center $(x_c,y_c)=(5,0)$ and with radius $R=5$. Hint: it may be useful to compute a new array for the radial distance $r$ between any point and the center of the circle using the formula $r=\\sqrt{(x-x_c)^2+(y-y_c)^2}$. Use the `plt.axis('equal')` command to make sure the scales along the two axes are equal and the circular area looks like a circle."
      ]
    },
    {
      "cell_type": "code",
      "execution_count": null,
      "metadata": {
        "id": "-Nj58KmeMd8n"
      },
      "outputs": [],
      "source": [
        ""
      ]
    },
    {
      "cell_type": "markdown",
      "metadata": {
        "id": "BrQzUTr9Md8n"
      },
      "source": [
        "<a href=\"#ex7answer\">Answer to Exercise 7</a>"
      ]
    },
    {
      "cell_type": "markdown",
      "metadata": {
        "id": "61B5LuljMd8n"
      },
      "source": [
        "### Exercise 8, <a name=\"back8\"></a> Fix the error \n",
        "In the code below, it is meant to give the last 5 values of the array `x` the values [50, 52, 54, 56, 58] and print the result to the screen, but there are some errors in the code. Remove the comment markers and run the code to see the error message. Then fix the code and run it again."
      ]
    },
    {
      "cell_type": "code",
      "execution_count": null,
      "metadata": {
        "id": "xTun2gR5Md8n"
      },
      "outputs": [],
      "source": [
        "#x = np.ones(10)\n",
        "#x[5:] = np.arange(50, 62, 1)\n",
        "#print(x)"
      ]
    },
    {
      "cell_type": "markdown",
      "metadata": {
        "id": "CotlxE_XMd8n"
      },
      "source": [
        "<a href=\"#ex8answer\">Answer to Exercise 8</a>"
      ]
    },
    {
      "cell_type": "markdown",
      "metadata": {
        "id": "OWbaAlLsMd8n"
      },
      "source": [
        "### Answers to the exercises"
      ]
    },
    {
      "cell_type": "markdown",
      "metadata": {
        "id": "qE0-Z98uMd8n"
      },
      "source": [
        "<a name=\"ex1answer\">Answer to Exercise 1</a>"
      ]
    },
    {
      "cell_type": "code",
      "execution_count": null,
      "metadata": {
        "id": "L5bgETv7Md8n"
      },
      "outputs": [],
      "source": [
        "x = np.zeros(20)\n",
        "x[:5] = 10\n",
        "x[5:15] = np.arange(12, 31, 2)\n",
        "x[15:] = 30\n",
        "plt.plot(x)\n",
        "plt.plot([4, 4], [8, 32],'k--')\n",
        "plt.plot([14, 14], [8, 32],'k--')\n",
        "plt.ylim(8, 32);"
      ]
    },
    {
      "cell_type": "markdown",
      "metadata": {
        "id": "y-fVVWUnMd8n"
      },
      "source": [
        "<a href=\"#back1\">Back to Exercise 1</a>\n",
        "\n",
        "<a name=\"ex2answer\">Answer to Exercise 2</a>"
      ]
    },
    {
      "cell_type": "code",
      "execution_count": null,
      "metadata": {
        "id": "CPsC2TVLMd8o"
      },
      "outputs": [],
      "source": [
        "x = np.array([[4, 2, 3, 2],\n",
        "              [2, 4, 3, 1],\n",
        "              [2, 4, 1, 3],\n",
        "              [4, 1, 2, 3]])\n",
        "print('the first row of x')\n",
        "print(x[0])\n",
        "print('the first column of x')\n",
        "print(x[:, 0])\n",
        "print('the third row of x')\n",
        "print(x[2])\n",
        "print('the last two columns of x')\n",
        "print(x[:, -2:])\n",
        "print('the four values in the upper right hand corner')\n",
        "print(x[:2, 2:])\n",
        "print('the four values at the center of x')\n",
        "print(x[1:3, 1:3])"
      ]
    },
    {
      "cell_type": "markdown",
      "metadata": {
        "id": "A5aM1V-pMd8o"
      },
      "source": [
        "<a href=\"#back2\">Back to Exercise 2</a>\n",
        "\n",
        "<a name=\"ex3answer\">Answer to Exercise 3</a>"
      ]
    },
    {
      "cell_type": "code",
      "execution_count": null,
      "metadata": {
        "id": "HyPZiPnDMd8o"
      },
      "outputs": [],
      "source": [
        "x = np.zeros((10, 10))\n",
        "x[:5, :5] = 4\n",
        "x[:5, 5:] = 3\n",
        "x[5:, 5:] = 2\n",
        "x[5:, :5] = 1\n",
        "print(x)\n",
        "plt.matshow(x, cmap='jet')\n",
        "plt.colorbar(ticks=[1, 2, 3, 4], shrink=0.8);"
      ]
    },
    {
      "cell_type": "markdown",
      "metadata": {
        "id": "P2Qo5xKKMd8o"
      },
      "source": [
        "<a href=\"#back3\">Back to Exercise 3</a>\n",
        "\n",
        "<a name=\"ex4answer\">Answer to Exercise 4</a>"
      ]
    },
    {
      "cell_type": "code",
      "execution_count": null,
      "metadata": {
        "id": "n-JDs2pcMd8o"
      },
      "outputs": [],
      "source": [
        "x = np.zeros((11, 17))\n",
        "x[2:4, 1:7] = -1\n",
        "x[2:9, 3:5] = -1\n",
        "x[2:9, 8:10] = 1\n",
        "x[2:9, 13:15] = 1\n",
        "x[7:9, 10:13] = 1\n",
        "print(x)\n",
        "plt.matshow(x, cmap='jet')\n",
        "plt.yticks(range(11, -1, -1))\n",
        "plt.xticks(range(0, 17));\n",
        "plt.ylim(10.5, -0.5)\n",
        "plt.xlim(-0.5, 16.5);"
      ]
    },
    {
      "cell_type": "markdown",
      "metadata": {
        "id": "sRm8Ir_AMd8o"
      },
      "source": [
        "<a href=\"#back4\">Back to Exercise 4</a>\n",
        "\n",
        "<a name=\"ex5answer\">Answer to Exercise 5</a>"
      ]
    },
    {
      "cell_type": "code",
      "execution_count": null,
      "metadata": {
        "id": "4GVWwS6tMd8o"
      },
      "outputs": [],
      "source": [
        "x = np.linspace(0, 20, 100)\n",
        "y = np.sin(x)\n",
        "plt.plot(x, y, 'b')\n",
        "y[y > 0.5] = 0.5\n",
        "y[y < -0.75] = -0.75\n",
        "plt.plot(x, y, 'r');"
      ]
    },
    {
      "cell_type": "markdown",
      "metadata": {
        "id": "NUUmCo1jMd8o"
      },
      "source": [
        "<a href=\"#back5\">Back to Exercise 5</a>\n",
        "\n",
        "<a name=\"ex6answer\">Answer to Exercise 6</a>"
      ]
    },
    {
      "cell_type": "code",
      "execution_count": null,
      "metadata": {
        "id": "zzn84reqMd8o"
      },
      "outputs": [],
      "source": [
        "x = np.linspace(0, 20, 100)\n",
        "y = np.sin(x)\n",
        "plt.plot(x[y > 0], y[y > 0], 'bo')\n",
        "plt.plot(x[y <= 0], y[y <= 0], 'ro');"
      ]
    },
    {
      "cell_type": "markdown",
      "metadata": {
        "id": "LuZ6Yf9QMd8o"
      },
      "source": [
        "<a href=\"#back6\">Back to Exercise 6</a>\n",
        "\n",
        "<a name=\"ex7answer\">Answer to Exercise 7</a>"
      ]
    },
    {
      "cell_type": "code",
      "execution_count": null,
      "metadata": {
        "id": "PvWSutGoMd8o"
      },
      "outputs": [],
      "source": [
        "x, y = np.loadtxt('xypoints.dat')\n",
        "plt.plot(x, y, 'ro')\n",
        "plt.plot(x[(x < -2) & (y >= -5) & (y < 0)], y[(x < -2) & (y >= -5) & (y < 0)], 'bo')\n",
        "r = np.sqrt((x - 5) ** 2 + y ** 2)\n",
        "plt.plot(x[r < 5], y[r < 5], 'go')\n",
        "plt.axis('scaled');"
      ]
    },
    {
      "cell_type": "markdown",
      "metadata": {
        "id": "-Rd6XgpjMd8o"
      },
      "source": [
        "<a href=\"#back7\">Back to Exercise 7</a>\n",
        "\n",
        "<a name=\"ex8answer\">Answer to Exercise 8</a>"
      ]
    },
    {
      "cell_type": "code",
      "execution_count": null,
      "metadata": {
        "id": "S9hp5vZCMd8o"
      },
      "outputs": [],
      "source": [
        "x = np.ones(10)\n",
        "x[5:] = np.arange(50, 60, 2)\n",
        "print(x)"
      ]
    },
    {
      "cell_type": "markdown",
      "metadata": {
        "id": "6USKz43YMd8o"
      },
      "source": [
        "<a href=\"#back8\">Back to Exercise 8</a>"
      ]
    }
  ],
  "metadata": {
    "kernelspec": {
      "display_name": "Python 3",
      "language": "python",
      "name": "python3"
    },
    "language_info": {
      "codemirror_mode": {
        "name": "ipython",
        "version": 3
      },
      "file_extension": ".py",
      "mimetype": "text/x-python",
      "name": "python",
      "nbconvert_exporter": "python",
      "pygments_lexer": "ipython3",
      "version": "3.8.2"
    },
    "latex_envs": {
      "LaTeX_envs_menu_present": true,
      "autoclose": false,
      "autocomplete": true,
      "bibliofile": "biblio.bib",
      "cite_by": "apalike",
      "current_citInitial": 1,
      "eqLabelWithNumbers": true,
      "eqNumInitial": 1,
      "hotkeys": {
        "equation": "Ctrl-E",
        "itemize": "Ctrl-I"
      },
      "labels_anchors": false,
      "latex_user_defs": false,
      "report_style_numbering": false,
      "user_envs_cfg": false
    },
    "varInspector": {
      "cols": {
        "lenName": 16,
        "lenType": 16,
        "lenVar": 40
      },
      "kernels_config": {
        "python": {
          "delete_cmd_postfix": "",
          "delete_cmd_prefix": "del ",
          "library": "var_list.py",
          "varRefreshCmd": "print(var_dic_list())"
        },
        "r": {
          "delete_cmd_postfix": ") ",
          "delete_cmd_prefix": "rm(",
          "library": "var_list.r",
          "varRefreshCmd": "cat(var_dic_list()) "
        }
      },
      "types_to_exclude": [
        "module",
        "function",
        "builtin_function_or_method",
        "instance",
        "_Feature"
      ],
      "window_display": false
    },
    "colab": {
      "name": "py_exploratory_comp_2.ipynb",
      "provenance": []
    }
  },
  "nbformat": 4,
  "nbformat_minor": 0
}